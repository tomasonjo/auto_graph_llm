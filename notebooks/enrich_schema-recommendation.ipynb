{
 "cells": [
  {
   "cell_type": "code",
   "execution_count": 2,
   "id": "463056ad-b8ce-4f4c-980c-373664f27e6c",
   "metadata": {},
   "outputs": [
    {
     "name": "stderr",
     "output_type": "stream",
     "text": [
      "/Users/tomazbratanic/anaconda3/lib/python3.11/site-packages/pandas/core/arrays/masked.py:60: UserWarning: Pandas requires version '1.3.6' or newer of 'bottleneck' (version '1.3.5' currently installed).\n",
      "  from pandas.core import (\n"
     ]
    }
   ],
   "source": [
    "from llama_index.graph_stores.neo4j import Neo4jPropertyGraphStore\n",
    "\n",
    "graph_store = Neo4jPropertyGraphStore(\n",
    "    username=\"recommendations\",\n",
    "    password=\"recommendations\",\n",
    "    database=\"recommendations\",\n",
    "    url=\"neo4j+s://demo.neo4jlabs.com:7687\",\n",
    "    enhanced_schema=True,\n",
    "    create_indexes=False\n",
    ")"
   ]
  },
  {
   "cell_type": "code",
   "execution_count": 38,
   "id": "943e61a0-e5d5-45ce-87c7-4ccc44494910",
   "metadata": {},
   "outputs": [],
   "source": [
    "import os\n",
    "from llama_index.llms.openai import OpenAI\n",
    "from llama_index.embeddings.openai import OpenAIEmbedding\n",
    "\n",
    "\n",
    "os.environ[\"OPENAI_API_KEY\"] = \"sk-\"\n",
    "embed_model = OpenAIEmbedding(model=\"text-embedding-3-small\")\n",
    "llm = OpenAI(model=\"gpt-4o-2024-11-20\", temperature=0)"
   ]
  },
  {
   "cell_type": "code",
   "execution_count": 4,
   "id": "f8e6652b-96b3-43b2-92fd-b6b9797126f4",
   "metadata": {},
   "outputs": [],
   "source": [
    "from llama_index.core import ChatPromptTemplate\n",
    "\n",
    "system_prompt = \"\"\"You are a data expert specializing in concise, natural language explanations. Your goal is to define properties of dataset elements in a way that emphasizes their real-world meaning and purpose. Include information about ranges or counts only if they are interesting or significant to the definition. Provide definitions that help answer practical questions users might ask, such as:\n",
    "\n",
    "1. \"How can I use this property to compare {label} Nodes?\"\n",
    "2. \"What does this property reveal about the relationships or behavior of {label} Nodes?\"\n",
    "\"\"\"\n",
    "\n",
    "user_prompt = \"\"\"Summarize the following property of a {label} Node:\n",
    "\n",
    "{prop}\n",
    "\"\"\"\n",
    "\n",
    "prop_msgs = [\n",
    "    (\n",
    "        \"system\",\n",
    "        system_prompt,\n",
    "    ),\n",
    "    (\"user\", user_prompt),\n",
    "]\n",
    "\n",
    "prop_prompt = ChatPromptTemplate.from_messages(prop_msgs)"
   ]
  },
  {
   "cell_type": "code",
   "execution_count": 5,
   "id": "3d6ae665-0815-459b-8e94-a3a38f2af73f",
   "metadata": {},
   "outputs": [],
   "source": [
    "system_prompt = \"\"\"You are a data expert specializing in concise, natural language explanations. Your goal is to describe the types of questions or filters that can be applied to Neo4j node labels based on their properties. Explain how the properties of the label enable querying or analysis, highlighting which kinds of questions the data can answer. Mention specific filters, patterns, ranges, or groupings that are particularly meaningful or useful for understanding and exploring the label.  \n",
    "\"\"\"\n",
    "\n",
    "user_prompt = \"\"\"Summarize the meaning and purpose of the {label} node in a Neo4j database based on the following property descriptions:\n",
    "\n",
    "{prop_descriptions}\n",
    "\"\"\"\n",
    "prop_msgs = [\n",
    "    (\n",
    "        \"system\",\n",
    "        system_prompt,\n",
    "    ),\n",
    "    (\"user\", user_prompt),\n",
    "]\n",
    "\n",
    "label_summary_prompt = ChatPromptTemplate.from_messages(prop_msgs)"
   ]
  },
  {
   "cell_type": "code",
   "execution_count": 6,
   "id": "58a70b3f-cad3-483c-9f92-b56af28e7240",
   "metadata": {},
   "outputs": [
    {
     "name": "stdout",
     "output_type": "stream",
     "text": [
      "The `posterEmbedding` property represents a numerical encoding of a movie's poster image, capturing its visual features in a compact format. This embedding can be used to compare the visual similarity between movie posters or to group movies with similar poster styles. The values are part of a fixed-size vector, typically used in machine learning or recommendation systems.\n",
      "The `url` property provides a direct link to the movie's page on The Movie Database (TMDb). This allows users to access detailed information about the movie, such as its cast, crew, reviews, and other metadata. It is useful for verifying data, exploring additional context, or comparing movies by their online presence.\n",
      "The \"runtime\" property represents the total duration of a movie in minutes. It helps compare movies based on their length, revealing whether a film is short, standard, or unusually long. For example, a runtime of 910 minutes indicates an exceptionally long movie, while runtimes closer to 2 minutes suggest very short content like a clip or experimental film.\n",
      "The \"revenue\" property represents the total earnings a movie has generated, typically in US dollars. It helps compare the financial success of movies, revealing which ones performed better at the box office. The range spans from modest earnings to record-breaking figures like $2,787,965,087.\n",
      "The \"budget\" property represents the production cost of a movie in whole currency units. It helps compare the financial scale of movies, revealing how much was invested in their creation. Budgets can range from modest to extremely high, with the maximum recorded at $380 million, indicating blockbuster-level spending.\n",
      "The `plotEmbedding` property represents a numerical summary of a movie's plot, encoded as a vector. This embedding captures the essence of the plot's themes and content, enabling comparisons between movies based on their narrative similarities. It is particularly useful for tasks like clustering similar movies or recommending films with related storylines. The vector can have up to 1,536 dimensions, providing a detailed representation of the plot.\n",
      "The `imdbRating` property represents the average user rating of a movie on IMDb, measured on a scale from 1.6 to 9.6 in this dataset. It helps compare movies based on audience reception, with higher values indicating greater popularity or approval.\n",
      "The \"released\" property indicates the release date of a movie in the format \"YYYY-MM-DD.\" It helps compare movies based on when they were made available to the public, revealing trends or patterns in release timing, such as seasonal preferences or historical context.\n",
      "The \"countries\" property lists the countries where a movie was produced. It helps identify the geographic origin of a movie, which can be useful for comparing cultural or regional influences across movies. A movie can have no associated countries or up to 16, reflecting co-productions.\n",
      "The \"languages\" property lists the languages a movie is available in. It helps identify the linguistic accessibility of a movie, such as whether it is in English or other languages. This property can be used to compare movies based on their multilingual reach or to filter movies by preferred language options.\n",
      "The \"plot\" property provides a brief summary or description of a movie's storyline. It helps users quickly understand the movie's premise, themes, or key events, making it useful for comparing movies based on their narrative content or genre.\n",
      "The `imdbVotes` property represents the total number of votes a movie has received on IMDb. It indicates the level of audience engagement or popularity, allowing you to compare how widely viewed or discussed different movies are. Higher values suggest broader audience interaction.\n",
      "The `imdbId` property is a unique identifier for a movie on the Internet Movie Database (IMDb). It allows users to locate and compare movies by linking them to their IMDb pages, which provide detailed information like cast, crew, reviews, and ratings. This property is useful for integrating external IMDb data or verifying a movie's identity across platforms.\n",
      "The \"year\" property indicates the release year of a movie, ranging from 1902 to 2016 in this dataset. It helps compare movies based on their release periods, identify trends over time, or group movies by historical or cultural context.\n",
      "The \"poster\" property provides a URL linking to the official poster image for a movie. This visual element helps users quickly identify or recognize the movie and can be used to compare the visual branding or marketing style of different movies.\n",
      "The `movieId` is a unique identifier for each Movie Node, represented as a string. It helps distinguish one movie from another and can be used to reference or compare specific movies within the dataset.\n",
      "The `tmdbId` property is a unique identifier for a movie in the TMDB (The Movie Database) system. It allows you to link or compare Movie Nodes with their corresponding entries on TMDB, enabling access to additional metadata like cast, crew, reviews, or trailers. This property is useful for integrating external data or verifying movie details.\n",
      "The \"title\" property represents the name of the movie. It is a unique identifier that helps distinguish one movie from another and is essential for recognizing or referencing a specific film.\n",
      "The \"name\" property represents the genre's label, describing the type of content or theme associated with the Genre Node (e.g., Adventure, Comedy, Drama). It helps identify and compare genres by their primary focus or storytelling style.\n",
      "The `userId` property is a unique identifier for each User Node, represented as a string. It allows you to distinguish and compare individual users within the dataset. This property is essential for tracking user-specific data and understanding relationships or behaviors tied to specific users.\n",
      "The `name` property represents the full name of a User Node, typically used to identify or distinguish individual users. It allows for direct comparison between users and can reveal patterns, such as shared first or last names, which might indicate familial, cultural, or organizational connections.\n",
      "The `url` property provides a unique web link to a person's profile on The Movie Database (TMDb). It allows users to access detailed information about the individual, such as their filmography, biography, and other related data. This property is useful for identifying and comparing Person Nodes by linking them to their external TMDb profiles.\n",
      "The `bornIn` property indicates the place of birth of a Person Node, providing geographic or cultural context about their origin. It can be used to compare individuals based on their birthplaces, identify regional patterns, or explore connections between people from similar locations. The values range from specific cities and states to broader regions or countries.\n",
      "The `bio` property provides a textual summary or description of a person, often sourced from Wikipedia. It offers context about their life, achievements, or significance, helping users understand who the person is and compare their background or contributions to others.\n",
      "The \"died\" property represents the date a person passed away. It helps compare Person Nodes by identifying their lifespan and historical context. This property can reveal patterns or relationships, such as shared time periods or generational overlaps.\n",
      "The \"born\" property represents the birth date of a Person Node. It allows you to compare individuals by age, determine generational differences, or analyze historical contexts of their lives. The values are specific dates, providing precise temporal information about when a person was born.\n",
      "The `imdbId` property is a unique identifier linking a Person Node to their profile on IMDb. It can be used to compare Person Nodes by checking if they are associated with the same IMDb profile or to retrieve detailed information about their filmography, roles, or contributions in the entertainment industry.\n",
      "The `name` property represents the full name of a person. It is a string that uniquely identifies individuals and can be used to distinguish or reference specific Person Nodes. This property is essential for recognizing and comparing individuals in the dataset.\n",
      "The `poster` property provides a URL linking to an image representing the person, such as a profile picture or promotional photo. This can be used to visually identify or compare Person Nodes, offering a quick way to recognize individuals or enhance user interfaces with imagery.\n",
      "The `tmdbId` property represents a unique identifier for a person in the TMDB (The Movie Database) system. It can be used to link or compare Person Nodes with their corresponding profiles or data on TMDB, such as filmography or biographical details. This property is particularly useful for integrating external movie-related data or verifying a person's identity across datasets.\n"
     ]
    }
   ],
   "source": [
    "# Actor, Director we ignore because multilabeled nodes\n",
    "exclude_types = [\"Actor\", \"Director\"]\n",
    "\n",
    "keys_to_remove_from_prompt = [\"distinct_count\"]\n",
    "\n",
    "schema = graph_store.get_schema()\n",
    "enriched_schema = {}\n",
    "\n",
    "# Initialize the enriched schema with the original schema structure\n",
    "enriched_schema.update(schema)\n",
    "enriched_schema['node_props'] = {}\n",
    "\n",
    "for node in schema['node_props']:\n",
    "    # Remove excluded node types\n",
    "    if node in exclude_types:\n",
    "        continue\n",
    "\n",
    "    prop_descriptions = []\n",
    "    enriched_node_props = []\n",
    "    # For every node label with properties\n",
    "    for prop in schema['node_props'][node]:\n",
    "        clean_prop = {k: v for k, v in prop.items() if k not in keys_to_remove_from_prompt}\n",
    "        # Use LLM to generate description\n",
    "        prop_description = await llm.achat(prop_prompt.format_messages(label=node, prop=clean_prop))\n",
    "        prop_description = prop_description.message.content\n",
    "        print(prop_description)\n",
    "        # Store property description and its embedding\n",
    "        clean_prop['description'] = prop_description\n",
    "        clean_prop['description_embedding'] = embed_model.get_text_embedding(prop_description)\n",
    "        \n",
    "        prop_descriptions.append(prop_description)\n",
    "        enriched_node_props.append(clean_prop)\n",
    "\n",
    "    label_description = await llm.achat(label_summary_prompt.format_messages(label=node, prop_descriptions=prop_descriptions))\n",
    "    label_description = label_description.message.content\n",
    "\n",
    "    enriched_schema['node_props'][node] = {\n",
    "        'label_description': label_description,\n",
    "        'label_embedding': embed_model.get_text_embedding(label_description),\n",
    "        'properties': enriched_node_props\n",
    "    }"
   ]
  },
  {
   "cell_type": "code",
   "execution_count": 74,
   "id": "79e121b3-e9f3-4f25-bd84-a150bc679fee",
   "metadata": {},
   "outputs": [],
   "source": [
    "#print(graph_store.get_schema_str())"
   ]
  },
  {
   "cell_type": "code",
   "execution_count": 13,
   "id": "a2f22aec-58c5-42a1-a478-32fa920c90d9",
   "metadata": {},
   "outputs": [],
   "source": [
    "import numpy as np\n",
    "\n",
    "def cosine_similarity_sort(embeddings_list, query_embedding):\n",
    "    \"\"\"\n",
    "    Calculate cosine similarity between a query embedding and a list of embeddings.\n",
    "    \n",
    "    Args:\n",
    "        embeddings_list: List of tuples, where each tuple contains (id, embedding)\n",
    "        query_embedding: Single embedding to compare against\n",
    "        \n",
    "    Returns:\n",
    "        List of tuples containing (id, similarity_score), sorted by similarity in descending order\n",
    "    \"\"\"\n",
    "    # Separate IDs and embeddings\n",
    "    ids = [item[0] for item in embeddings_list]\n",
    "    embeddings = [item[1] for item in embeddings_list]\n",
    "    \n",
    "    # Convert to numpy arrays\n",
    "    embeddings_array = np.array(embeddings)\n",
    "    query_array = np.array(query_embedding)\n",
    "    \n",
    "    # Ensure query_array is 1D\n",
    "    query_array = query_array.reshape(1, -1)\n",
    "    \n",
    "    # Calculate dot product (using matrix multiplication)\n",
    "    dot_product = np.dot(embeddings_array, query_array.T).flatten()\n",
    "    \n",
    "    # Calculate magnitudes\n",
    "    embeddings_norm = np.linalg.norm(embeddings_array, axis=1)\n",
    "    query_norm = np.linalg.norm(query_array)\n",
    "    \n",
    "    # Calculate cosine similarity\n",
    "    similarities = dot_product / (embeddings_norm * query_norm)\n",
    "    \n",
    "    # Create list of (id, similarity) tuples\n",
    "    results = list(zip(ids, similarities))\n",
    "    \n",
    "    # Sort by similarity score in descending order\n",
    "    results.sort(key=lambda x: x[1], reverse=True)\n",
    "    \n",
    "    return results"
   ]
  },
  {
   "cell_type": "code",
   "execution_count": 14,
   "id": "d98444ba-d38d-41a9-94b1-7b414e0838fb",
   "metadata": {},
   "outputs": [],
   "source": [
    "from datetime import datetime\n",
    "\n",
    "def get_relevant_types(text, comparison_list, k=3):\n",
    "    query_embedding = embed_model.get_text_embedding(text)\n",
    "    sort = cosine_similarity_sort(comparison_list,query_embedding)\n",
    "    return sort[:k]"
   ]
  },
  {
   "cell_type": "code",
   "execution_count": 22,
   "id": "49d746c2-288e-4a93-a2db-13694e9c6ba9",
   "metadata": {},
   "outputs": [],
   "source": [
    "def get_relevant_tools(input):\n",
    "    output = []\n",
    "    # Get relevant node types\n",
    "    labels_list = [(node, enriched_schema['node_props'][node]['label_embedding']) for node in enriched_schema['node_props']]\n",
    "    labels = get_relevant_types(input, labels_list)\n",
    "    # For each node label get most relevant properties\n",
    "    for label in labels:\n",
    "        potential_properties = [((prop['property'], prop['type']), prop['description_embedding']) for prop in enriched_schema['node_props'][label[0]]['properties']]\n",
    "        props = get_relevant_types(input, potential_properties, 5)\n",
    "        output.append({\"node_label\": label, \"properties\": props})\n",
    "    return output"
   ]
  },
  {
   "cell_type": "code",
   "execution_count": 23,
   "id": "3c8b9ed1-7d5b-44dc-9159-083b481082e0",
   "metadata": {},
   "outputs": [],
   "source": [
    "#%timeit get_relevant_tools(\"Where is Tom Hanks from\")"
   ]
  },
  {
   "cell_type": "code",
   "execution_count": 24,
   "id": "6353ed18-5f1f-462d-b0ef-567f1b3e9965",
   "metadata": {},
   "outputs": [
    {
     "data": {
      "text/plain": [
       "[{'node_label': ('Genre', 0.45076284553687046),\n",
       "  'properties': [(('name', 'STRING'), 0.35702815318003717)]},\n",
       " {'node_label': ('Movie', 0.20537361062973428),\n",
       "  'properties': [(('languages', 'LIST'), 0.2217072661005813),\n",
       "   (('countries', 'LIST'), 0.22100465491268248),\n",
       "   (('revenue', 'INTEGER'), 0.1789930268356038),\n",
       "   (('budget', 'INTEGER'), 0.15955166327233392),\n",
       "   (('runtime', 'INTEGER'), 0.1473851601939835)]},\n",
       " {'node_label': ('Person', 0.11470623864446454),\n",
       "  'properties': [(('imdbId', 'STRING'), 0.05511708928345541),\n",
       "   (('url', 'STRING'), 0.045275299278740556),\n",
       "   (('bornIn', 'STRING'), 0.04500999886862818),\n",
       "   (('bio', 'TEXT'), 0.04397884711788456),\n",
       "   (('tmdbId', 'STRING'), 0.031159249972932273)]}]"
      ]
     },
     "execution_count": 24,
     "metadata": {},
     "output_type": "execute_result"
    }
   ],
   "source": [
    "get_relevant_tools(\"How many genres are there\")"
   ]
  },
  {
   "cell_type": "code",
   "execution_count": 25,
   "id": "4de38806-5fd7-4410-ae8e-ff2e89103539",
   "metadata": {},
   "outputs": [
    {
     "data": {
      "text/plain": [
       "[{'node_label': ('Person', 0.21214112251243697),\n",
       "  'properties': [(('tmdbId', 'STRING'), 0.25392604230219945),\n",
       "   (('imdbId', 'STRING'), 0.20609791533607974),\n",
       "   (('url', 'STRING'), 0.20034625316889473),\n",
       "   (('name', 'STRING'), 0.1683545045996092),\n",
       "   (('bio', 'TEXT'), 0.15133074850980432)]},\n",
       " {'node_label': ('Movie', 0.18310718618633437),\n",
       "  'properties': [(('tmdbId', 'STRING'), 0.24244398416650054),\n",
       "   (('title', 'STRING'), 0.219017036751108),\n",
       "   (('countries', 'LIST'), 0.2027850324367955),\n",
       "   (('imdbId', 'STRING'), 0.1999078405675809),\n",
       "   (('imdbVotes', 'INTEGER'), 0.19155435443834112)]},\n",
       " {'node_label': ('User', 0.12712079233912324),\n",
       "  'properties': [(('name', 'STRING'), 0.1477346547297757),\n",
       "   (('userId', 'STRING'), 0.13701414663348066)]}]"
      ]
     },
     "execution_count": 25,
     "metadata": {},
     "output_type": "execute_result"
    }
   ],
   "source": [
    "get_relevant_tools(\"Who is Tom Hanks?\")"
   ]
  },
  {
   "cell_type": "code",
   "execution_count": 26,
   "id": "4458f77e",
   "metadata": {},
   "outputs": [
    {
     "data": {
      "text/plain": [
       "[{'node_label': ('Person', 0.20818689131971443),\n",
       "  'properties': [(('tmdbId', 'STRING'), 0.2671541719414238),\n",
       "   (('name', 'STRING'), 0.2365805322517942),\n",
       "   (('imdbId', 'STRING'), 0.19971445001764604),\n",
       "   (('url', 'STRING'), 0.19902483834005724),\n",
       "   (('bio', 'TEXT'), 0.15449388828855956)]},\n",
       " {'node_label': ('Movie', 0.17939909347811545),\n",
       "  'properties': [(('title', 'STRING'), 0.2884291802331046),\n",
       "   (('tmdbId', 'STRING'), 0.26030864438159484),\n",
       "   (('imdbId', 'STRING'), 0.2006082689237742),\n",
       "   (('countries', 'LIST'), 0.19943722335068123),\n",
       "   (('url', 'STRING'), 0.18734399969515683)]},\n",
       " {'node_label': ('User', 0.14750609411985074),\n",
       "  'properties': [(('name', 'STRING'), 0.21169425244683782),\n",
       "   (('userId', 'STRING'), 0.1287573271581887)]}]"
      ]
     },
     "execution_count": 26,
     "metadata": {},
     "output_type": "execute_result"
    }
   ],
   "source": [
    "get_relevant_tools(\"What's the name of Tom Hanks?\")"
   ]
  },
  {
   "cell_type": "code",
   "execution_count": 111,
   "id": "b72c3d99-9b17-45dd-a4b9-536500a5a249",
   "metadata": {},
   "outputs": [],
   "source": [
    "# Storing the schema\n",
    "import json\n",
    "\n",
    "# Specify the file name\n",
    "file_name = \"schema.json\"\n",
    "\n",
    "# Write dictionary to JSON file\n",
    "with open(file_name, 'w') as json_file:\n",
    "    json.dump(schema, json_file, indent=4)"
   ]
  },
  {
   "cell_type": "code",
   "execution_count": 1,
   "id": "4c40cd72-c4c5-4c48-b651-61bedde74f21",
   "metadata": {},
   "outputs": [],
   "source": [
    "#enriched_schema['node_props'][\"Movie\"]"
   ]
  },
  {
   "cell_type": "code",
   "execution_count": 70,
   "id": "e8d96cc8-c169-4af6-80b8-0199e07b4266",
   "metadata": {},
   "outputs": [],
   "source": [
    "from typing import Optional, List, Dict, Any, Union\n",
    "from pydantic import BaseModel, create_model, Field\n",
    "from enum import Enum\n",
    "\n",
    "# Define operator enums for different property types\n",
    "class StringOperator(str, Enum):\n",
    "    CONTAINS = \"CONTAINS\"\n",
    "    EQUALS = \"EQUALS\"\n",
    "    STARTS_WITH = \"STARTS_WITH\"\n",
    "    ENDS_WITH = \"ENDS_WITH\"\n",
    "\n",
    "class NumberOperator(str, Enum):\n",
    "    EQUALS = \"EQUALS\"\n",
    "    GREATER_THAN = \"GREATER_THAN\"\n",
    "    LESS_THAN = \"LESS_THAN\"\n",
    "    GREATER_OR_EQUAL = \"GREATER_OR_EQUAL\"\n",
    "    LESS_OR_EQUAL = \"LESS_OR_EQUAL\"\n",
    "\n",
    "class BooleanOperator(str, Enum):\n",
    "    IS_TRUE = \"IS_TRUE\"\n",
    "    IS_FALSE = \"IS_FALSE\"\n",
    "\n",
    "class ListOperator(str, Enum):\n",
    "    EQUALS = \"EQUALS\"\n",
    "    IN = \"IN\"\n",
    "\n",
    "# Type mapping function with operator enums\n",
    "def get_python_type_and_operator(prop_type: str):\n",
    "    \"\"\"Maps property types to Python types and corresponding operator enums.\"\"\"\n",
    "    type_mapping = {\n",
    "        'STRING': (str, StringOperator),\n",
    "        'TEXT': (str, StringOperator),\n",
    "        'LIST': (List[str], ListOperator),\n",
    "        'INT': (int, NumberOperator),\n",
    "        'FLOAT': (float, NumberOperator),\n",
    "        'BOOL': (bool, BooleanOperator),\n",
    "    }\n",
    "    return type_mapping.get(prop_type, (Any, None))\n",
    "\n",
    "def create_node_class(properties: List[tuple]) -> dict:\n",
    "    \"\"\"Creates field definitions for a node class based on properties.\"\"\"\n",
    "    field_definitions = {}\n",
    "    for (prop_name, prop_type), _ in properties:\n",
    "        python_type, operator_enum = get_python_type_and_operator(prop_type)\n",
    "\n",
    "        # Add the operator attribute for properties\n",
    "        operator_field_name = f\"{prop_name}_operator\"\n",
    "        field_definitions[prop_name] = (Optional[python_type], Field(\n",
    "            None,\n",
    "            description=f\"Property '{prop_name}' of type '{prop_type}'\"\n",
    "        ))\n",
    "        if operator_enum:\n",
    "            field_definitions[operator_field_name] = (Optional[operator_enum], Field(\n",
    "                None,\n",
    "                description=f\"Operator for '{prop_name}'\"\n",
    "            ))\n",
    "    return field_definitions\n",
    "\n",
    "def generate_schema_class(input_data: List[Dict[str, Any]]):\n",
    "    \"\"\"Generates the main Pydantic class with nested node classes.\"\"\"\n",
    "    # First, create individual node classes\n",
    "    node_classes = {}\n",
    "    for node in input_data:\n",
    "        node_label = node['node_label'][0]\n",
    "        properties = node['properties']\n",
    "\n",
    "        # Create the node class\n",
    "        node_class = create_model(\n",
    "            f\"{node_label}Node\",\n",
    "            **create_node_class(properties)\n",
    "        )\n",
    "        node_classes[node_label] = (Optional[node_class], Field(\n",
    "            None,\n",
    "            description=f\"Node representing {node_label}\"\n",
    "        ))\n",
    "\n",
    "    # Create the main schema class\n",
    "    SchemaClass = create_model(\"Schema\", **node_classes)\n",
    "    return SchemaClass"
   ]
  },
  {
   "cell_type": "code",
   "execution_count": 71,
   "id": "a84e08bb-f6c4-4afe-90e3-2a30e69a5db7",
   "metadata": {},
   "outputs": [],
   "source": [
    "# Recursive function to get non-null keys and values\n",
    "def get_non_null_values(instance):\n",
    "    if isinstance(instance, BaseModel):\n",
    "        # Iterate through the model fields and recursively filter\n",
    "        return {\n",
    "            key: get_non_null_values(value)\n",
    "            for key, value in instance.dict(exclude_none=True).items()\n",
    "        }\n",
    "    elif isinstance(instance, dict):\n",
    "        # Handle nested dictionaries\n",
    "        return {key: get_non_null_values(value) for key, value in instance.items()}\n",
    "    else:\n",
    "        # Return the value if it's not None\n",
    "        return instance"
   ]
  },
  {
   "cell_type": "code",
   "execution_count": 78,
   "id": "25e59a61-4a0d-4718-a092-51c819106cb9",
   "metadata": {},
   "outputs": [],
   "source": [
    "def construct_cypher(non_null_keys):\n",
    "    for key, value in non_null_keys.items():\n",
    "        cypher = f\"MATCH (n:`{key}`) \"\n",
    "        \n",
    "        filters = []\n",
    "        params = {}\n",
    "        \n",
    "        # Group properties and their operators\n",
    "        properties = {}\n",
    "        for prop_key, prop_value in value.items():\n",
    "            if not prop_key.endswith('_operator'):\n",
    "                operator_key = f\"{prop_key}_operator\"\n",
    "                operator = value.get(operator_key, \"EQUALS\")\n",
    "                properties[prop_key] = {\n",
    "                    'value': prop_value,\n",
    "                    'operator': operator\n",
    "                }\n",
    "\n",
    "        # Create filters and params\n",
    "        for i, (prop, details) in enumerate(properties.items()):\n",
    "            # Define Cypher operator syntax mapping\n",
    "            operator_mapping = {\n",
    "                \"EQUALS\": \"=\",\n",
    "                \"CONTAINS\": \"CONTAINS\",\n",
    "                \"STARTS_WITH\": \"STARTS WITH\",\n",
    "                \"ENDS_WITH\": \"ENDS WITH\",\n",
    "                \"GREATER_THAN\": \">\",\n",
    "                \"LESS_THAN\": \"<\",\n",
    "                \"GREATER_OR_EQUAL\": \">=\",\n",
    "                \"LESS_OR_EQUAL\": \"<=\",\n",
    "                \"IN\": \"IN\"\n",
    "            }\n",
    "            \n",
    "            # Get the operator string value if it's an enum\n",
    "            operator = str(details['operator']).split('.')[-1].strip(\"'\")\n",
    "            cypher_operator = operator_mapping.get(operator, \"=\")\n",
    "            \n",
    "            # Define parameter and filter\n",
    "            prop_param = f\"prop_{i}\"\n",
    "            filters.append(f\"n.`{prop}` {cypher_operator} ${prop_param}\")\n",
    "            params[prop_param] = details['value']\n",
    "\n",
    "        if filters:\n",
    "            cypher += f\"WHERE {' AND '.join(filters)} \"\n",
    "\n",
    "        # Counting return\n",
    "        cypher += \"RETURN count(*) AS count\"\n",
    "        return cypher, params"
   ]
  },
  {
   "cell_type": "code",
   "execution_count": 79,
   "id": "89cf7d1c-c7da-462c-abe0-4cb240b8f344",
   "metadata": {},
   "outputs": [],
   "source": [
    "def retriever(input):\n",
    "    # Generate Pydantic Schema\n",
    "    schema_input = get_relevant_tools(input)\n",
    "    #print(schema_input)\n",
    "    SchemaObject = generate_schema_class(schema_input)\n",
    "    # LLM with structured output\n",
    "    tool_inputs = get_non_null_values((\n",
    "        llm.as_structured_llm(SchemaObject)\n",
    "        .complete(input)\n",
    "        .raw\n",
    "    ))\n",
    "    #print(tool_inputs)\n",
    "    # Deterministically generate Cypher statement\n",
    "    cypher, params = construct_cypher(tool_inputs)\n",
    "    print(cypher, params)\n",
    "    # Execute Cypher statement\n",
    "    results = graph_store.structured_query(cypher, param_map=params)\n",
    "    return results\n",
    "\n",
    "    "
   ]
  },
  {
   "cell_type": "code",
   "execution_count": 80,
   "id": "d64f2211-5326-4462-ad66-cd547b21f3e9",
   "metadata": {},
   "outputs": [
    {
     "name": "stdout",
     "output_type": "stream",
     "text": [
      "MATCH (n:`Person`) WHERE n.`name` = $prop_0 RETURN count(*) AS count {'prop_0': 'Tom Hanks'}\n"
     ]
    },
    {
     "data": {
      "text/plain": [
       "[{'count': 1}]"
      ]
     },
     "execution_count": 80,
     "metadata": {},
     "output_type": "execute_result"
    }
   ],
   "source": [
    "retriever(\"How many Tom Hanks in the db?\")"
   ]
  },
  {
   "cell_type": "code",
   "execution_count": 81,
   "id": "7df57950-427e-4f9b-968a-c492a59c7dfa",
   "metadata": {},
   "outputs": [
    {
     "name": "stdout",
     "output_type": "stream",
     "text": [
      "MATCH (n:`Movie`) WHERE n.`languages` = $prop_0 RETURN count(*) AS count {'prop_0': ['Japanese']}\n"
     ]
    },
    {
     "data": {
      "text/plain": [
       "[{'count': 133}]"
      ]
     },
     "execution_count": 81,
     "metadata": {},
     "output_type": "execute_result"
    }
   ],
   "source": [
    "retriever(\"How many movies in japan language?\")"
   ]
  },
  {
   "cell_type": "code",
   "execution_count": 82,
   "id": "006a032d-4ddf-4d91-b87d-d7d37e0a9446",
   "metadata": {},
   "outputs": [
    {
     "name": "stdout",
     "output_type": "stream",
     "text": [
      "MATCH (n:`Movie`) WHERE n.`languages` IN $prop_0 RETURN count(*) AS count {'prop_0': ['Japanese']}\n"
     ]
    },
    {
     "data": {
      "text/plain": [
       "[{'count': 0}]"
      ]
     },
     "execution_count": 82,
     "metadata": {},
     "output_type": "execute_result"
    }
   ],
   "source": [
    "retriever(\"How many movies where at least one of the languages is japanese?\")"
   ]
  },
  {
   "cell_type": "code",
   "execution_count": 83,
   "id": "33dd1ae8-ed8a-4df0-bde6-587a52c5cbd2",
   "metadata": {},
   "outputs": [
    {
     "name": "stdout",
     "output_type": "stream",
     "text": [
      "MATCH (n:`Movie`) WHERE n.`imdbRating` < $prop_0 RETURN count(*) AS count {'prop_0': 7.5}\n"
     ]
    },
    {
     "data": {
      "text/plain": [
       "[{'count': 6746}]"
      ]
     },
     "execution_count": 83,
     "metadata": {},
     "output_type": "execute_result"
    }
   ],
   "source": [
    "retriever(\"How many movies have imdb rating less than 7.5?\")"
   ]
  },
  {
   "cell_type": "code",
   "execution_count": null,
   "id": "3a3d1cf5-5f23-45fa-9460-7dfd9a4a9ab2",
   "metadata": {},
   "outputs": [],
   "source": []
  }
 ],
 "metadata": {
  "kernelspec": {
   "display_name": "Python 3 (ipykernel)",
   "language": "python",
   "name": "python3"
  },
  "language_info": {
   "codemirror_mode": {
    "name": "ipython",
    "version": 3
   },
   "file_extension": ".py",
   "mimetype": "text/x-python",
   "name": "python",
   "nbconvert_exporter": "python",
   "pygments_lexer": "ipython3",
   "version": "3.11.5"
  }
 },
 "nbformat": 4,
 "nbformat_minor": 5
}
