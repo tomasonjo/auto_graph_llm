{
 "cells": [
  {
   "cell_type": "code",
   "execution_count": 3,
   "id": "463056ad-b8ce-4f4c-980c-373664f27e6c",
   "metadata": {},
   "outputs": [
    {
     "name": "stderr",
     "output_type": "stream",
     "text": [
      "/Users/tomazbratanic/anaconda3/lib/python3.11/site-packages/pandas/core/arrays/masked.py:60: UserWarning: Pandas requires version '1.3.6' or newer of 'bottleneck' (version '1.3.5' currently installed).\n",
      "  from pandas.core import (\n"
     ]
    }
   ],
   "source": [
    "from llama_index.graph_stores.neo4j import Neo4jPropertyGraphStore\n",
    "\n",
    "graph_store = Neo4jPropertyGraphStore(\n",
    "    username=\"recommendations\",\n",
    "    password=\"recommendations\",\n",
    "    database=\"recommendations\",\n",
    "    url=\"neo4j+s://demo.neo4jlabs.com:7687\",\n",
    "    enhanced_schema=True,\n",
    "    create_indexes=False\n",
    ")"
   ]
  },
  {
   "cell_type": "code",
   "execution_count": 4,
   "id": "943e61a0-e5d5-45ce-87c7-4ccc44494910",
   "metadata": {},
   "outputs": [],
   "source": [
    "import os\n",
    "from llama_index.llms.openai import OpenAI\n",
    "from llama_index.embeddings.openai import OpenAIEmbedding\n",
    "\n",
    "\n",
    "os.environ[\"OPENAI_API_KEY\"] = \"sk-\"\n",
    "embed_model = OpenAIEmbedding(model=\"text-embedding-3-small\")\n",
    "llm = OpenAI(model=\"gpt-4o-2024-11-20\", temperature=0)"
   ]
  },
  {
   "cell_type": "code",
   "execution_count": 5,
   "id": "f8e6652b-96b3-43b2-92fd-b6b9797126f4",
   "metadata": {},
   "outputs": [],
   "source": [
    "from llama_index.core import ChatPromptTemplate\n",
    "\n",
    "system_prompt = \"\"\"You are a data expert specializing in concise, natural language explanations. Your goal is to define properties of dataset elements in a way that emphasizes their real-world meaning and purpose. Include information about ranges or counts only if they are interesting or significant to the definition. Provide definitions that help answer practical questions users might ask, such as:\n",
    "\n",
    "1. \"How can I use this property to compare {label} Nodes?\"\n",
    "2. \"What does this property reveal about the relationships or behavior of {label} Nodes?\"\n",
    "\"\"\"\n",
    "\n",
    "user_prompt = \"\"\"Summarize the following property of a {label} Node:\n",
    "\n",
    "{prop}\n",
    "\"\"\"\n",
    "\n",
    "prop_msgs = [\n",
    "    (\n",
    "        \"system\",\n",
    "        system_prompt,\n",
    "    ),\n",
    "    (\"user\", user_prompt),\n",
    "]\n",
    "\n",
    "prop_prompt = ChatPromptTemplate.from_messages(prop_msgs)"
   ]
  },
  {
   "cell_type": "code",
   "execution_count": 6,
   "id": "3d6ae665-0815-459b-8e94-a3a38f2af73f",
   "metadata": {},
   "outputs": [],
   "source": [
    "system_prompt = \"\"\"You are a data expert specializing in concise, natural language explanations. Your goal is to describe the types of questions or filters that can be applied to Neo4j node labels based on their properties. Explain how the properties of the label enable querying or analysis, highlighting which kinds of questions the data can answer. Mention specific filters, patterns, ranges, or groupings that are particularly meaningful or useful for understanding and exploring the label.  \n",
    "\"\"\"\n",
    "\n",
    "user_prompt = \"\"\"Summarize the meaning and purpose of the {label} node in a Neo4j database based on the following property descriptions:\n",
    "\n",
    "{prop_descriptions}\n",
    "\"\"\"\n",
    "prop_msgs = [\n",
    "    (\n",
    "        \"system\",\n",
    "        system_prompt,\n",
    "    ),\n",
    "    (\"user\", user_prompt),\n",
    "]\n",
    "\n",
    "label_summary_prompt = ChatPromptTemplate.from_messages(prop_msgs)"
   ]
  },
  {
   "cell_type": "code",
   "execution_count": 7,
   "id": "3454f5c9-0b6c-43be-8e27-90dd29a54a41",
   "metadata": {},
   "outputs": [],
   "source": [
    "system_prompt = \"\"\"\"You are a data expert specializing in concise, natural language explanations. Your goal is to describe relationships in a Neo4j graph database based on their source node, target node, and relationship type. Explain how the properties of the source and target nodes, along with the relationship type, enable querying or analysis. Highlight specific filters, patterns, or traversals that are meaningful for understanding and exploring these relationships. Emphasize how this relationship contributes to the overall structure and insights of the graph.\"\"\"\n",
    "user_prompt = \"\"\"Summarize the meaning and purpose of the relationship labeled {relationship_type} in a Neo4j database based on the following source and target node descriptions:\n",
    "\n",
    "Source Node: {source_node_description}\n",
    "Target Node: {target_node_description}\"\"\"\n",
    "\n",
    "rel_msgs = [\n",
    "    (\n",
    "        \"system\",\n",
    "        system_prompt,\n",
    "    ),\n",
    "    (\"user\", user_prompt),\n",
    "]\n",
    "\n",
    "rel_summary_prompt = ChatPromptTemplate.from_messages(rel_msgs)"
   ]
  },
  {
   "cell_type": "code",
   "execution_count": 8,
   "id": "38289eaa-f5b1-40e2-a2ec-a5557458c511",
   "metadata": {},
   "outputs": [],
   "source": [
    "#graph_store.get_schema()"
   ]
  },
  {
   "cell_type": "code",
   "execution_count": 9,
   "id": "58a70b3f-cad3-483c-9f92-b56af28e7240",
   "metadata": {},
   "outputs": [
    {
     "name": "stdout",
     "output_type": "stream",
     "text": [
      "The `url` property provides a direct link to the movie's page on The Movie Database (TMDb). This allows users to access detailed information about the movie, such as its cast, crew, reviews, and other metadata. It is useful for verifying data, exploring additional context, or comparing movies by their online presence.\n",
      "The \"runtime\" property represents the total duration of a movie in minutes. It helps compare movies based on their length, revealing whether a film is short, standard, or unusually long. This can be useful for planning viewing time or understanding the pacing and scope of a movie.\n",
      "The \"revenue\" property represents the total earnings a movie has generated, typically in US dollars. It helps compare the financial success of movies, revealing which ones performed better at the box office. The range spans from modest earnings to record-breaking figures like $2.78 billion.\n",
      "The `plotEmbedding` property represents a numerical vector that encodes the essence of a movie's plot. It is used to compare movies based on their narrative similarities or themes. The embedding can have up to 1,536 dimensions, capturing complex plot details in a compact form. This property is useful for tasks like finding movies with similar storylines or clustering films by thematic content.\n",
      "The `posterEmbedding` property represents a numerical encoding of a movie's poster image. This embedding captures visual features of the poster, enabling comparisons between movies based on poster similarity. It is useful for tasks like finding movies with visually similar promotional materials or clustering movies by poster design.\n",
      "The `imdbRating` property represents the average user rating of a movie on IMDb, measured on a scale from 1.6 to 9.6 in this dataset. It helps compare movies based on audience reception, with higher values indicating greater popularity or approval.\n",
      "The \"released\" property indicates the release date of a movie in the format \"YYYY-MM-DD.\" It helps compare movies based on when they were made available to the public, revealing trends in release timing or clustering of films during specific periods.\n",
      "The \"countries\" property lists the countries where a movie was produced. It helps compare movies based on their production origins and can reveal cultural or regional influences on the film. A movie can have no associated countries or up to 16.\n",
      "The \"languages\" property lists the languages a movie is available in. It helps identify the linguistic accessibility of a movie and can be used to compare movies based on their language diversity. A movie can have no listed languages or up to 19, reflecting its potential reach to different audiences.\n",
      "The \"plot\" property provides a brief textual summary of a movie's storyline or premise. It helps users quickly understand the central theme or conflict of the movie, making it useful for comparing narratives, genres, or themes across different Movie Nodes.\n",
      "The `imdbVotes` property represents the total number of votes a movie has received on IMDb. It indicates the level of audience engagement or popularity, with higher values suggesting broader viewer interest. This property can be used to compare how widely watched or discussed different movies are.\n",
      "The `imdbId` property is a unique identifier for a movie on the Internet Movie Database (IMDb). It allows users to directly reference or locate a specific movie on IMDb, making it useful for comparing or linking Movie Nodes to external IMDb data.\n",
      "The \"year\" property indicates the release year of a movie, ranging from 1902 to 2016 in this dataset. It helps compare movies based on their release periods, identify trends over time, or group movies by historical or cultural context.\n",
      "The \"poster\" property provides a URL linking to the official poster image of a movie. This visual element helps users quickly identify or recognize the movie and can be used to compare the visual branding or marketing style of different movies.\n",
      "The `movieId` is a unique identifier for each Movie Node, represented as a string. It helps distinguish one movie from another and can be used to reference or compare specific movies in the dataset.\n",
      "The `tmdbId` property is a unique identifier for a movie in the TMDB (The Movie Database) system. It allows users to link or compare Movie Nodes with their corresponding entries on TMDB, enabling access to additional metadata like cast, crew, reviews, or trailers. This property is useful for integrating external data or verifying movie details.\n",
      "The \"title\" property represents the name of a movie. It is a unique identifier that helps distinguish one Movie Node from another and is essential for recognizing or referencing specific films.\n",
      "The \"budget\" property represents the production cost of a movie in whole currency units. It helps compare the financial scale of movies, revealing how much was invested in their creation. A higher budget might indicate a larger or more resource-intensive production.\n",
      "The \"name\" property represents the genre's label, describing the type of content associated with the Genre Node (e.g., Adventure, Comedy, Drama). It helps identify and compare genres by their thematic focus or storytelling style.\n",
      "The `userId` property is a unique identifier for each User Node, represented as a string. It distinguishes one user from another, making it essential for tracking individual users and comparing their activities or relationships within the dataset.\n",
      "The `name` property represents the full name of a User Node, typically used to identify or personalize interactions with the user. It allows for distinguishing between users and can reveal naming patterns or formalities (e.g., titles like \"Mr.\"). This property is unique to each user and helps in comparing or referencing specific individuals.\n",
      "The `url` property provides a unique web link to a person's profile on The Movie Database (TMDb). It allows users to access detailed information about the individual, such as their filmography, biography, and other related data. This property is useful for directly comparing or exploring external details about Person Nodes.\n",
      "The `bornIn` property indicates the place of birth of a Person Node, providing geographic or cultural context about their origin. It can be used to compare individuals based on their birthplace, identify regional patterns, or explore connections between people from the same location. The values range from specific cities and states to broader regions or countries.\n",
      "The \"bio\" property provides a textual summary or description of a person, often sourced from Wikipedia. It offers context about their life, achievements, or significance, helping users understand who the person is and compare their background or contributions to others.\n",
      "The \"died\" property represents the date a person passed away. It helps compare Person Nodes by identifying their lifespan and historical context. This property can reveal relationships or patterns, such as shared time periods or generational overlaps.\n",
      "The \"born\" property represents the birth date of a Person Node. It allows you to compare individuals by age, determine generational differences, or analyze historical contexts based on when they were born. The values are specific dates, providing precise temporal information about each person.\n",
      "The `imdbId` property is a unique identifier linking a Person Node to their profile on IMDb. It helps users find detailed information about the person's filmography, roles, or contributions in the entertainment industry. This property is useful for comparing Person Nodes by their presence or prominence on IMDb or for connecting external data about their work.\n",
      "The `name` property represents the full name of a person, allowing you to identify or distinguish individuals. It is useful for comparing Person Nodes by their identity or referencing them in a meaningful, human-readable way.\n",
      "The `poster` property provides a URL linking to an image associated with the Person Node, typically a profile or promotional image. This property can help visually identify or represent the person in applications, such as displaying their image in a user interface or comparing visual branding across individuals.\n",
      "The `tmdbId` property represents a unique identifier for a person in the TMDB (The Movie Database) system. It can be used to link or compare Person Nodes with external TMDB data, such as their filmography, roles, or other related information. This property helps establish connections between the dataset and TMDB's extensive movie and person database.\n"
     ]
    }
   ],
   "source": [
    "# Actor, Director we ignore because multilabeled nodes\n",
    "exclude_types = [\"Actor\", \"Director\"]\n",
    "\n",
    "keys_to_remove_from_prompt = [\"distinct_count\"]\n",
    "\n",
    "schema = graph_store.get_schema()\n",
    "enriched_schema = {}\n",
    "\n",
    "# Initialize the enriched schema with the original schema structure\n",
    "enriched_schema.update(schema)\n",
    "enriched_schema['node_props'] = {}\n",
    "\n",
    "# Create a dictionary to store node neighbors\n",
    "node_neighbors = {}\n",
    "for rel in schema['relationships']:\n",
    "    start_node = rel['start']\n",
    "    end_node = rel['end']\n",
    "    rel_type = rel['type']\n",
    "    # Remove excluded types\n",
    "    if any(el in exclude_types for el in [start_node, end_node, rel_type]):\n",
    "        continue\n",
    "    \n",
    "    # Initialize lists if they don't exist\n",
    "    if start_node not in node_neighbors:\n",
    "        node_neighbors[start_node] = []\n",
    "    if end_node not in node_neighbors:\n",
    "        node_neighbors[end_node] = []\n",
    "        \n",
    "    # Todo/Maybe LLM generated descriptions\n",
    "    \"\"\"\n",
    "    source_node_description\n",
    "    target_node_description\n",
    "    rel_description = await llm.achat(rel_summary_prompt.format_messages(\n",
    "        source_node_description=source_node_description, \n",
    "        target_node_description=target_node_description, \n",
    "        relationship_type=rel_type\n",
    "    ))\n",
    "    rel_description = prop_description.message.content\n",
    "    \"\"\"\n",
    "    rel_description = f\"{start_node} is connected to {end_node} through relationship {rel_type}\"\n",
    "    \n",
    "    # Add neighbors in both directions with more detailed structure\n",
    "    node_neighbors[start_node].append({\n",
    "        'start_node': start_node,\n",
    "        'relationship_type': rel_type,\n",
    "        'target_node': end_node,\n",
    "        'neighbor_description': rel_description,\n",
    "        'description_embedding': embed_model.get_text_embedding(rel_description),\n",
    "        'direction': \"NATURAL\"\n",
    "    })\n",
    "    \n",
    "    node_neighbors[end_node].append({\n",
    "        'start_node': start_node,\n",
    "        'relationship_type': rel_type,\n",
    "        'target_node': start_node,\n",
    "        'neighbor_description': rel_description,\n",
    "        'description_embedding': embed_model.get_text_embedding(rel_description),\n",
    "        'direction': \"REVERSE\"\n",
    "    })\n",
    "\n",
    "for node in schema['node_props']:\n",
    "    # Remove excluded node types\n",
    "    if node in exclude_types:\n",
    "        continue\n",
    "\n",
    "    prop_descriptions = []\n",
    "    enriched_node_props = []\n",
    "    # For every node label with properties\n",
    "    for prop in schema['node_props'][node]:\n",
    "        clean_prop = {k: v for k, v in prop.items() if k not in keys_to_remove_from_prompt}\n",
    "        # Use LLM to generate description\n",
    "        prop_description = await llm.achat(prop_prompt.format_messages(label=node, prop=clean_prop))\n",
    "        prop_description = prop_description.message.content\n",
    "        print(prop_description)\n",
    "        # Store property description and its embedding\n",
    "        clean_prop['description'] = prop_description\n",
    "        clean_prop['description_embedding'] = embed_model.get_text_embedding(prop_description)\n",
    "        \n",
    "        prop_descriptions.append(prop_description)\n",
    "        enriched_node_props.append(clean_prop)\n",
    "    # Get node label descriptions\n",
    "    label_description = await llm.achat(label_summary_prompt.format_messages(label=node, prop_descriptions=prop_descriptions))\n",
    "    label_description = label_description.message.content\n",
    "\n",
    "    enriched_schema['node_props'][node] = {\n",
    "        'label_description': label_description,\n",
    "        'label_embedding': embed_model.get_text_embedding(label_description),\n",
    "        'properties': enriched_node_props,\n",
    "        'neighbors': node_neighbors.get(node, [])  # Now contains list of neighbor objects\n",
    "    }"
   ]
  },
  {
   "cell_type": "code",
   "execution_count": 74,
   "id": "79e121b3-e9f3-4f25-bd84-a150bc679fee",
   "metadata": {},
   "outputs": [],
   "source": [
    "#print(graph_store.get_schema_str())"
   ]
  },
  {
   "cell_type": "code",
   "execution_count": 61,
   "id": "a2f22aec-58c5-42a1-a478-32fa920c90d9",
   "metadata": {},
   "outputs": [],
   "source": [
    "import numpy as np\n",
    "\n",
    "def cosine_similarity_sort(embeddings_list, query_embedding):\n",
    "    \"\"\"\n",
    "    Calculate cosine similarity between a query embedding and a list of embeddings.\n",
    "    \n",
    "    Args:\n",
    "        embeddings_list: List of tuples, where each tuple contains (id, embedding)\n",
    "        query_embedding: Single embedding to compare against\n",
    "        \n",
    "    Returns:\n",
    "        List of tuples containing (id, similarity_score), sorted by similarity in descending order\n",
    "    \"\"\"\n",
    "    # Separate IDs and embeddings\n",
    "    ids = [item[0] for item in embeddings_list]\n",
    "    embeddings = [item[1] for item in embeddings_list]\n",
    "    \n",
    "    # Convert to numpy arrays\n",
    "    embeddings_array = np.array(embeddings)\n",
    "    query_array = np.array(query_embedding)\n",
    "    \n",
    "    # Ensure query_array is 1D\n",
    "    query_array = query_array.reshape(1, -1)\n",
    "    \n",
    "    # Calculate dot product (using matrix multiplication)\n",
    "    dot_product = np.dot(embeddings_array, query_array.T).flatten()\n",
    "    \n",
    "    # Calculate magnitudes\n",
    "    embeddings_norm = np.linalg.norm(embeddings_array, axis=1)\n",
    "    query_norm = np.linalg.norm(query_array)\n",
    "    \n",
    "    # Calculate cosine similarity\n",
    "    similarities = dot_product / (embeddings_norm * query_norm)\n",
    "    \n",
    "    # Create list of (id, similarity) tuples\n",
    "    results = list(zip(ids, similarities))\n",
    "    \n",
    "    # Sort by similarity score in descending order\n",
    "    results.sort(key=lambda x: x[1], reverse=True)\n",
    "    \n",
    "    return results"
   ]
  },
  {
   "cell_type": "code",
   "execution_count": 62,
   "id": "d98444ba-d38d-41a9-94b1-7b414e0838fb",
   "metadata": {},
   "outputs": [],
   "source": [
    "from datetime import datetime\n",
    "\n",
    "def get_relevant_types(text, comparison_list, k=3):\n",
    "    query_embedding = embed_model.get_text_embedding(text)\n",
    "    sort = cosine_similarity_sort(comparison_list,query_embedding)\n",
    "    return sort[:k]"
   ]
  },
  {
   "cell_type": "code",
   "execution_count": 63,
   "id": "49d746c2-288e-4a93-a2db-13694e9c6ba9",
   "metadata": {},
   "outputs": [],
   "source": [
    "def get_relevant_tools(input):\n",
    "    output = []\n",
    "    # Get relevant node types\n",
    "    labels_list = [\n",
    "        (node, enriched_schema[\"node_props\"][node][\"label_embedding\"])\n",
    "        for node in enriched_schema[\"node_props\"]\n",
    "    ]\n",
    "    labels = get_relevant_types(input, labels_list)\n",
    "    # For each node label get most relevant properties\n",
    "    for label in labels:\n",
    "        potential_properties = [\n",
    "            ((prop[\"property\"], prop[\"type\"]), prop[\"description_embedding\"])\n",
    "            for prop in enriched_schema[\"node_props\"][label[0]][\"properties\"]\n",
    "            if not prop[\"type\"] in [\"EMBEDDING\"]\n",
    "        ]\n",
    "        potential_neighbors = [\n",
    "            ((prop[\"start_node\"], prop[\"relationship_type\"], prop[\"target_node\"]), prop[\"description_embedding\"])\n",
    "            for prop in enriched_schema[\"node_props\"][label[0]][\"neighbors\"]\n",
    "            \n",
    "        ]\n",
    "        props = get_relevant_types(input, [*potential_properties, *potential_neighbors], 15)\n",
    "        output.append({\"node_label\": label, \"properties\": props})\n",
    "    return output"
   ]
  },
  {
   "cell_type": "code",
   "execution_count": 64,
   "id": "3c8b9ed1-7d5b-44dc-9159-083b481082e0",
   "metadata": {},
   "outputs": [],
   "source": [
    "#%timeit get_relevant_tools(\"Where is Tom Hanks from\")"
   ]
  },
  {
   "cell_type": "code",
   "execution_count": 122,
   "id": "6353ed18-5f1f-462d-b0ef-567f1b3e9965",
   "metadata": {},
   "outputs": [],
   "source": [
    "#get_relevant_tools(\"How many genres are there\")"
   ]
  },
  {
   "cell_type": "code",
   "execution_count": 123,
   "id": "4de38806-5fd7-4410-ae8e-ff2e89103539",
   "metadata": {},
   "outputs": [],
   "source": [
    "#get_relevant_tools(\"Who is Tom Hanks?\")"
   ]
  },
  {
   "cell_type": "code",
   "execution_count": 124,
   "id": "4458f77e",
   "metadata": {},
   "outputs": [],
   "source": [
    "#get_relevant_tools(\"What's the name of Tom Hanks?\")"
   ]
  },
  {
   "cell_type": "code",
   "execution_count": 68,
   "id": "b72c3d99-9b17-45dd-a4b9-536500a5a249",
   "metadata": {},
   "outputs": [],
   "source": [
    "# Storing the schema\n",
    "import json\n",
    "\n",
    "# Specify the file name\n",
    "file_name = \"schema.json\"\n",
    "\n",
    "# Write dictionary to JSON file\n",
    "with open(file_name, 'w') as json_file:\n",
    "    json.dump(schema, json_file, indent=4)"
   ]
  },
  {
   "cell_type": "code",
   "execution_count": 69,
   "id": "4c40cd72-c4c5-4c48-b651-61bedde74f21",
   "metadata": {},
   "outputs": [],
   "source": [
    "#enriched_schema['node_props'][\"Movie\"]"
   ]
  },
  {
   "cell_type": "code",
   "execution_count": 94,
   "id": "e8d96cc8-c169-4af6-80b8-0199e07b4266",
   "metadata": {},
   "outputs": [],
   "source": [
    "from typing import Optional, List, Dict, Any, Union\n",
    "from pydantic import BaseModel, create_model, Field\n",
    "from enum import Enum\n",
    "\n",
    "# Define operator enums for different property types\n",
    "class StringOperator(str, Enum):\n",
    "    CONTAINS = \"CONTAINS\"\n",
    "    EQUALS = \"EQUALS\"\n",
    "    STARTS_WITH = \"STARTS_WITH\"\n",
    "    ENDS_WITH = \"ENDS_WITH\"\n",
    "\n",
    "class NumberOperator(str, Enum):\n",
    "    EQUALS = \"EQUALS\"\n",
    "    GREATER_THAN = \"GREATER_THAN\"\n",
    "    LESS_THAN = \"LESS_THAN\"\n",
    "    GREATER_OR_EQUAL = \"GREATER_OR_EQUAL\"\n",
    "    LESS_OR_EQUAL = \"LESS_OR_EQUAL\"\n",
    "\n",
    "class BooleanOperator(str, Enum):\n",
    "    IS_TRUE = \"IS_TRUE\"\n",
    "    IS_FALSE = \"IS_FALSE\"\n",
    "\n",
    "class ListOperator(str, Enum):\n",
    "    EQUALS = \"EQUALS\"\n",
    "    IN = \"IN\"\n",
    "\n",
    "# Type mapping function with operator enums\n",
    "def get_python_type_and_operator(prop_type: str):\n",
    "    \"\"\"Maps property types to Python types and corresponding operator enums.\"\"\"\n",
    "    type_mapping = {\n",
    "        'STRING': (str, StringOperator),\n",
    "        'TEXT': (str, StringOperator),\n",
    "        'LIST': (List[str], ListOperator),\n",
    "        'INT': (int, NumberOperator),\n",
    "        'FLOAT': (float, NumberOperator),\n",
    "        'BOOL': (bool, BooleanOperator),\n",
    "    }\n",
    "    return type_mapping.get(prop_type, (Any, None))\n",
    "\n",
    "class Relationship(BaseModel):\n",
    "    count: Optional[bool] = Field(None, description=\"Should we count the number of relationships\")\n",
    "\n",
    "def create_node_class(properties: List[tuple]) -> dict:\n",
    "    \"\"\"Creates field definitions for a node class based on properties.\"\"\"\n",
    "    field_definitions = {}\n",
    "    \n",
    "    for prop_tuple in properties:\n",
    "        prop, confidence = prop_tuple  # Unpack the property tuple and its confidence score\n",
    "        \n",
    "        if len(prop) == 2:  # Regular property\n",
    "            prop_name, prop_type = prop\n",
    "            python_type, operator_enum = get_python_type_and_operator(prop_type)\n",
    "    \n",
    "            # Add the operator attribute for properties\n",
    "            operator_field_name = f\"{prop_name}_operator\"\n",
    "            field_definitions[str(prop_name)] = (Optional[python_type], Field(\n",
    "                None,\n",
    "                description=f\"Property '{prop_name}' of type '{prop_type}'\"\n",
    "            ))\n",
    "            if operator_enum:\n",
    "                field_definitions[str(operator_field_name)] = (Optional[operator_enum], Field(\n",
    "                    None,\n",
    "                    description=f\"Operator for '{prop_name}'\"\n",
    "                ))\n",
    "        else:  # Relationship\n",
    "            source_node, rel_type, target_node = prop\n",
    "            # Create relationship field name\n",
    "            relationship_field_name = f\"{rel_type}___{target_node}\"\n",
    "            \n",
    "            # Add relationship field with Relationship class instead of RelationshipProperties\n",
    "            field_definitions[str(relationship_field_name)] = (\n",
    "                Optional[Relationship],\n",
    "                Field(\n",
    "                    None,\n",
    "                    description=f\"Relationship {rel_type} from {source_node} to {target_node}\"\n",
    "                )\n",
    "            )\n",
    "            \n",
    "    return field_definitions\n",
    "\n",
    "def generate_schema_class(input_data: List[Dict[str, Any]]):\n",
    "    \"\"\"Generates the main Pydantic class with nested node classes.\"\"\"\n",
    "    # First, create individual node classes\n",
    "    node_classes = {}\n",
    "    for node in input_data:\n",
    "        node_label, confidence = node['node_label']\n",
    "        properties = node['properties']\n",
    "\n",
    "        # Create the node class\n",
    "        node_class = create_model(\n",
    "            f\"{node_label}Node\",\n",
    "            **create_node_class(properties)\n",
    "        )\n",
    "        node_classes[str(node_label)] = (Optional[node_class], Field(\n",
    "            None,\n",
    "            description=f\"Node representing {node_label}\"\n",
    "        ))\n",
    "\n",
    "    # Create the main schema class\n",
    "    SchemaClass = create_model(\"Schema\", **node_classes)\n",
    "    return SchemaClass"
   ]
  },
  {
   "cell_type": "code",
   "execution_count": 96,
   "id": "916925d6-341f-44f5-8535-1d1ada4378e9",
   "metadata": {},
   "outputs": [],
   "source": [
    "schemaa = generate_schema_class(get_relevant_tools(\"What's the name of Tom Hanks?\"))"
   ]
  },
  {
   "cell_type": "code",
   "execution_count": 97,
   "id": "a84e08bb-f6c4-4afe-90e3-2a30e69a5db7",
   "metadata": {},
   "outputs": [],
   "source": [
    "# Recursive function to get non-null keys and values\n",
    "def get_non_null_values(instance):\n",
    "    if isinstance(instance, BaseModel):\n",
    "        # Iterate through the model fields and recursively filter\n",
    "        return {\n",
    "            key: get_non_null_values(value)\n",
    "            for key, value in instance.dict(exclude_none=True).items()\n",
    "        }\n",
    "    elif isinstance(instance, dict):\n",
    "        # Handle nested dictionaries\n",
    "        return {key: get_non_null_values(value) for key, value in instance.items()}\n",
    "    else:\n",
    "        # Return the value if it's not None\n",
    "        return instance"
   ]
  },
  {
   "cell_type": "code",
   "execution_count": 114,
   "id": "25e59a61-4a0d-4718-a092-51c819106cb9",
   "metadata": {},
   "outputs": [],
   "source": [
    "def construct_cypher(non_null_keys):\n",
    "    for key, value in non_null_keys.items():\n",
    "        cypher = f\"MATCH (n:`{key}`) \"\n",
    "        \n",
    "        filters = []\n",
    "        params = {}\n",
    "        count_matches = []\n",
    "        \n",
    "        # Group properties and their operators\n",
    "        properties = {}\n",
    "        for prop_key, prop_value in value.items():\n",
    "            if not prop_key.endswith('_operator'):\n",
    "                operator_key = f\"{prop_key}_operator\"\n",
    "                operator = value.get(operator_key, \"EQUALS\")\n",
    "                properties[prop_key] = {\n",
    "                    'value': prop_value,\n",
    "                    'operator': operator\n",
    "                }\n",
    "\n",
    "        # Create filters and params\n",
    "        for i, (prop, details) in enumerate(properties.items()):\n",
    "            print(i, prop, details)\n",
    "            # If we count relationships, probably need some better detection method\n",
    "            if isinstance(details.get(\"value\"), dict) and details.get(\"value\").get(\"count\"):\n",
    "                rel_type, target_node = prop.split(\"___\") # We hope nobody uses triple under\n",
    "                print(rel_type, target_node)\n",
    "                # Add a WITH clause to count relationships\n",
    "                count_matches.append(\n",
    "                    f\"count{{ (n)-[:`{rel_type}`]->(:`{target_node}`)}} AS count_{rel_type}_{target_node}\"\n",
    "                )\n",
    "            else: # If we filter of a node property\n",
    "                # Define Cypher operator syntax mapping\n",
    "                operator_mapping = {\n",
    "                    \"EQUALS\": \"=\",\n",
    "                    \"CONTAINS\": \"CONTAINS\",\n",
    "                    \"STARTS_WITH\": \"STARTS WITH\",\n",
    "                    \"ENDS_WITH\": \"ENDS WITH\",\n",
    "                    \"GREATER_THAN\": \">\",\n",
    "                    \"LESS_THAN\": \"<\",\n",
    "                    \"GREATER_OR_EQUAL\": \">=\",\n",
    "                    \"LESS_OR_EQUAL\": \"<=\",\n",
    "                    \"IN\": \"IN\"\n",
    "                }\n",
    "                \n",
    "                # Get the operator string value if it's an enum\n",
    "                operator = str(details['operator']).split('.')[-1].strip(\"'\")\n",
    "                cypher_operator = operator_mapping.get(operator, \"=\")\n",
    "                \n",
    "                # Define parameter and filter\n",
    "                prop_param = f\"prop_{i}\"\n",
    "                filters.append(f\"n.`{prop}` {cypher_operator} ${prop_param}\")\n",
    "                params[prop_param] = details['value']\n",
    "\n",
    "        if filters:\n",
    "            cypher += f\"WHERE {' AND '.join(filters)} \"\n",
    "\n",
    "\n",
    "        if count_matches:\n",
    "            cypher += \"RETURN \" + \", \".join(count_matches)\n",
    "        else:\n",
    "            # Counting return\n",
    "            cypher += \"RETURN count(*) AS count\"\n",
    "        return cypher, params"
   ]
  },
  {
   "cell_type": "code",
   "execution_count": 115,
   "id": "89cf7d1c-c7da-462c-abe0-4cb240b8f344",
   "metadata": {},
   "outputs": [],
   "source": [
    "def retriever(input):\n",
    "    # Generate Pydantic Schema\n",
    "    schema_input = get_relevant_tools(input)\n",
    "    #print(schema_input)\n",
    "    SchemaObject = generate_schema_class(schema_input)\n",
    "    # LLM with structured output\n",
    "    tool_inputs = get_non_null_values((\n",
    "        llm.as_structured_llm(SchemaObject)\n",
    "        .complete(input)\n",
    "        .raw\n",
    "    ))\n",
    "    #print(tool_inputs)\n",
    "    # Deterministically generate Cypher statement\n",
    "    cypher, params = construct_cypher(tool_inputs)\n",
    "    print(cypher, params)\n",
    "    # Execute Cypher statement\n",
    "    results = graph_store.structured_query(cypher, param_map=params)\n",
    "    return results\n",
    "\n",
    "    "
   ]
  },
  {
   "cell_type": "code",
   "execution_count": 116,
   "id": "2c71ddb5-ca17-4088-9661-432e14d66640",
   "metadata": {
    "scrolled": true
   },
   "outputs": [
    {
     "name": "stdout",
     "output_type": "stream",
     "text": [
      "0 ACTED_IN___Movie {'value': {'count': True}, 'operator': 'EQUALS'}\n",
      "ACTED_IN Movie\n",
      "1 name {'value': 'Tom Hanks', 'operator': <StringOperator.EQUALS: 'EQUALS'>}\n",
      "MATCH (n:`Person`) WHERE n.`name` = $prop_1 RETURN count{ (n)-[:`ACTED_IN`]->(:`Movie`)} AS count_ACTED_IN_Movie {'prop_1': 'Tom Hanks'}\n"
     ]
    },
    {
     "data": {
      "text/plain": [
       "[{'count_ACTED_IN_Movie': 38}]"
      ]
     },
     "execution_count": 116,
     "metadata": {},
     "output_type": "execute_result"
    }
   ],
   "source": [
    "retriever(\"How many movies did Tom Hanks appear?\")"
   ]
  },
  {
   "cell_type": "code",
   "execution_count": 117,
   "id": "d64f2211-5326-4462-ad66-cd547b21f3e9",
   "metadata": {},
   "outputs": [
    {
     "name": "stdout",
     "output_type": "stream",
     "text": [
      "0 name {'value': 'Tom Hanks', 'operator': <StringOperator.EQUALS: 'EQUALS'>}\n",
      "MATCH (n:`Person`) WHERE n.`name` = $prop_0 RETURN count(*) AS count {'prop_0': 'Tom Hanks'}\n"
     ]
    },
    {
     "data": {
      "text/plain": [
       "[{'count': 1}]"
      ]
     },
     "execution_count": 117,
     "metadata": {},
     "output_type": "execute_result"
    }
   ],
   "source": [
    "retriever(\"How many Tom Hanks in the db?\")"
   ]
  },
  {
   "cell_type": "code",
   "execution_count": 118,
   "id": "7df57950-427e-4f9b-968a-c492a59c7dfa",
   "metadata": {},
   "outputs": [
    {
     "name": "stdout",
     "output_type": "stream",
     "text": [
      "0 languages {'value': ['Japanese'], 'operator': <ListOperator.EQUALS: 'EQUALS'>}\n",
      "MATCH (n:`Movie`) WHERE n.`languages` = $prop_0 RETURN count(*) AS count {'prop_0': ['Japanese']}\n"
     ]
    },
    {
     "data": {
      "text/plain": [
       "[{'count': 133}]"
      ]
     },
     "execution_count": 118,
     "metadata": {},
     "output_type": "execute_result"
    }
   ],
   "source": [
    "retriever(\"How many movies in japan language?\")"
   ]
  },
  {
   "cell_type": "code",
   "execution_count": 119,
   "id": "006a032d-4ddf-4d91-b87d-d7d37e0a9446",
   "metadata": {},
   "outputs": [
    {
     "name": "stdout",
     "output_type": "stream",
     "text": [
      "0 languages {'value': ['Japanese'], 'operator': <ListOperator.IN: 'IN'>}\n",
      "MATCH (n:`Movie`) WHERE n.`languages` IN $prop_0 RETURN count(*) AS count {'prop_0': ['Japanese']}\n"
     ]
    },
    {
     "data": {
      "text/plain": [
       "[{'count': 0}]"
      ]
     },
     "execution_count": 119,
     "metadata": {},
     "output_type": "execute_result"
    }
   ],
   "source": [
    "retriever(\"How many movies where at least one of the languages is japanese?\")"
   ]
  },
  {
   "cell_type": "code",
   "execution_count": 120,
   "id": "33dd1ae8-ed8a-4df0-bde6-587a52c5cbd2",
   "metadata": {},
   "outputs": [
    {
     "name": "stdout",
     "output_type": "stream",
     "text": [
      "0 imdbRating {'value': 7.5, 'operator': <NumberOperator.LESS_THAN: 'LESS_THAN'>}\n",
      "MATCH (n:`Movie`) WHERE n.`imdbRating` < $prop_0 RETURN count(*) AS count {'prop_0': 7.5}\n"
     ]
    },
    {
     "data": {
      "text/plain": [
       "[{'count': 6746}]"
      ]
     },
     "execution_count": 120,
     "metadata": {},
     "output_type": "execute_result"
    }
   ],
   "source": [
    "retriever(\"How many movies have imdb rating less than 7.5?\")"
   ]
  },
  {
   "cell_type": "code",
   "execution_count": 121,
   "id": "3a3d1cf5-5f23-45fa-9460-7dfd9a4a9ab2",
   "metadata": {},
   "outputs": [
    {
     "name": "stdout",
     "output_type": "stream",
     "text": [
      "0 name {'value': 'H', 'operator': <StringOperator.STARTS_WITH: 'STARTS_WITH'>}\n",
      "MATCH (n:`Person`) WHERE n.`name` STARTS WITH $prop_0 RETURN count(*) AS count {'prop_0': 'H'}\n"
     ]
    },
    {
     "data": {
      "text/plain": [
       "[{'count': 536}]"
      ]
     },
     "execution_count": 121,
     "metadata": {},
     "output_type": "execute_result"
    }
   ],
   "source": [
    "retriever(\"How many person names start with H?\")"
   ]
  },
  {
   "cell_type": "code",
   "execution_count": null,
   "id": "fbb30332-dcf9-4fb3-a69f-e9e5da4eb5fb",
   "metadata": {},
   "outputs": [],
   "source": []
  }
 ],
 "metadata": {
  "kernelspec": {
   "display_name": "Python 3 (ipykernel)",
   "language": "python",
   "name": "python3"
  },
  "language_info": {
   "codemirror_mode": {
    "name": "ipython",
    "version": 3
   },
   "file_extension": ".py",
   "mimetype": "text/x-python",
   "name": "python",
   "nbconvert_exporter": "python",
   "pygments_lexer": "ipython3",
   "version": "3.11.5"
  }
 },
 "nbformat": 4,
 "nbformat_minor": 5
}
